{
 "cells": [
  {
   "cell_type": "code",
   "execution_count": 4,
   "metadata": {},
   "outputs": [],
   "source": [
    "from abc import ABC, abstractmethod\n",
    "\n",
    "class Tombola(ABC):\n",
    "    @abstractmethod\n",
    "    def load(self,iterable):\n",
    "        '''\n",
    "        Add items from an iterable\n",
    "        '''\n",
    "        \n",
    "    @abstractmethod\n",
    "    def pick(self):\n",
    "        '''\n",
    "        Remove a random item, returning it\n",
    "        \n",
    "        Raise LookupError when the instance is emtpy\n",
    "        '''\n",
    "    \n",
    "    def loaded(self):\n",
    "        return bool(self.inspect())\n",
    "    \n",
    "    def inspect(self):\n",
    "        \"Return a sorted tuple with items currently inside\"\n",
    "        items = []\n",
    "        while True:\n",
    "            try:\n",
    "                items.append(self.pick())\n",
    "            except LookupError:\n",
    "                break\n",
    "        self.load(items)\n",
    "        return tuple(sorted(items))"
   ]
  },
  {
   "cell_type": "code",
   "execution_count": 5,
   "metadata": {},
   "outputs": [],
   "source": [
    "from random import randrange\n",
    "\n",
    "@Tombola.register\n",
    "class TomboList(list):\n",
    "    def pick(self):\n",
    "        if self:\n",
    "            position = randrange(len(self))\n",
    "            return self.pop(position)\n",
    "        else:\n",
    "            raise LookupError('popping from an empty Tombolist')\n",
    "    \n",
    "    load = list.extend # list.extend(self,???)\n",
    "    \n",
    "    def loaded(self):\n",
    "        return bool(self)\n",
    "    \n",
    "    def inspect(self):\n",
    "        return tuple(sorted(self))"
   ]
  },
  {
   "cell_type": "code",
   "execution_count": 10,
   "metadata": {},
   "outputs": [
    {
     "name": "stdout",
     "output_type": "stream",
     "text": [
      "True\n",
      "True\n",
      "(<class '__main__.TomboList'>, <class 'list'>, <class 'object'>)\n"
     ]
    }
   ],
   "source": [
    "'''\n",
    "Tobolist inherits from List; it's not declared as a subclass of Tombola. \n",
    "\n",
    "However, because of the decoration @Tombola.register, TomboList acts as a subclass of Tombola. Hence,\n",
    "issubclass and isinstance will recognize Tombolist as a subclass of Tombola. \n",
    "\n",
    "/***\n",
    "NOTE: since Tombolist doesn't declare its inheritance, its __mro__ doesnot recognize Tombola as its superclass. \n",
    "Thus, the class Tombolist doesnot actually inherit anything from Tombola. \n",
    "***/\n",
    "'''\n",
    "print(issubclass(TomboList,Tombola))\n",
    "t = TomboList(range(100))\n",
    "print(isinstance(t,Tombola))\n",
    "print(TomboList.__mro__)"
   ]
  },
  {
   "cell_type": "code",
   "execution_count": 15,
   "metadata": {},
   "outputs": [
    {
     "ename": "AttributeError",
     "evalue": "type object 'Tombola' has no attribute '_abc_registry'",
     "output_type": "error",
     "traceback": [
      "\u001b[0;31m---------------------------------------------------------------------------\u001b[0m",
      "\u001b[0;31mAttributeError\u001b[0m                            Traceback (most recent call last)",
      "\u001b[0;32m<ipython-input-15-a9c2dafec8ce>\u001b[0m in \u001b[0;36m<module>\u001b[0;34m\u001b[0m\n\u001b[0;32m----> 1\u001b[0;31m \u001b[0mprint\u001b[0m\u001b[0;34m(\u001b[0m\u001b[0mTombola\u001b[0m\u001b[0;34m.\u001b[0m\u001b[0m_abc_registry\u001b[0m\u001b[0;34m)\u001b[0m\u001b[0;34m\u001b[0m\u001b[0;34m\u001b[0m\u001b[0m\n\u001b[0m",
      "\u001b[0;31mAttributeError\u001b[0m: type object 'Tombola' has no attribute '_abc_registry'"
     ]
    }
   ],
   "source": [
    "print(Tombola._abc_registry)"
   ]
  }
 ],
 "metadata": {
  "kernelspec": {
   "display_name": "Python 3",
   "language": "python",
   "name": "python3"
  },
  "language_info": {
   "codemirror_mode": {
    "name": "ipython",
    "version": 3
   },
   "file_extension": ".py",
   "mimetype": "text/x-python",
   "name": "python",
   "nbconvert_exporter": "python",
   "pygments_lexer": "ipython3",
   "version": "3.7.3"
  }
 },
 "nbformat": 4,
 "nbformat_minor": 2
}
