{
 "cells": [
  {
   "cell_type": "code",
   "execution_count": 7,
   "metadata": {},
   "outputs": [],
   "source": [
    "The ABC collections.abc.Iterables can be used to detect iterables"
   ]
  },
  {
   "cell_type": "code",
   "execution_count": 18,
   "metadata": {},
   "outputs": [
    {
     "name": "stdout",
     "output_type": "stream",
     "text": [
      "True\n"
     ]
    }
   ],
   "source": [
    "from collections.abc import Iterable\n",
    "\n",
    "li = [1,2,3]\n",
    "print(isinstance(li,Iterable))"
   ]
  },
  {
   "cell_type": "markdown",
   "metadata": {},
   "source": [
    "The use of isinstance(obj,Iterable) only detects the implementations of __iter__ magic method. This approach ignores __getitem__ implementation of iterables\n",
    "\n",
    "Python 3.7 recommends using iter() to check for iterables."
   ]
  },
  {
   "cell_type": "code",
   "execution_count": 30,
   "metadata": {},
   "outputs": [
    {
     "name": "stdout",
     "output_type": "stream",
     "text": [
      "object is not iterable 'int' object is not iterable\n"
     ]
    }
   ],
   "source": [
    "noniter = 5\n",
    "\n",
    "try:\n",
    "    iter(noniter)\n",
    "except TypeError as error_detail:\n",
    "    print(\"object is not iterable\",error_detail)\n",
    "    "
   ]
  },
  {
   "cell_type": "markdown",
   "metadata": {},
   "source": [
    "For example, let implement an algorithm to flatten a python array. "
   ]
  },
  {
   "cell_type": "code",
   "execution_count": 47,
   "metadata": {},
   "outputs": [
    {
     "name": "stdout",
     "output_type": "stream",
     "text": [
      "[1, 2, 3, 4, 5, 6, 7, 8, 9, 't', 'h', 'i', 's', ' ', 'i', 's', ' ', 'n', 'o', 't', ' ', 'a', ' ', 'w', 'o', 'r', 'd', 11]\n"
     ]
    }
   ],
   "source": [
    "def flatten(input,output=None):\n",
    "    if not input: return output\n",
    "    if output is None: output = []\n",
    "\n",
    "    for ele in input:\n",
    "        try:\n",
    "            iter(ele) # is ele iterable\n",
    "            output.append(ele[0])\n",
    "            flatten(ele[1:],output)\n",
    "        except TypeError:\n",
    "            output.append(ele)\n",
    "    return output\n",
    "            \n",
    "\n",
    "ll = [1,2,[3,4,5],6,[7,[8,9]],\"this is not a word\",11]\n",
    "\n",
    "print(flatten(ll))"
   ]
  },
  {
   "cell_type": "code",
   "execution_count": null,
   "metadata": {},
   "outputs": [],
   "source": []
  },
  {
   "cell_type": "code",
   "execution_count": null,
   "metadata": {},
   "outputs": [],
   "source": []
  }
 ],
 "metadata": {
  "kernelspec": {
   "display_name": "Python 3",
   "language": "python",
   "name": "python3"
  },
  "language_info": {
   "codemirror_mode": {
    "name": "ipython",
    "version": 3
   },
   "file_extension": ".py",
   "mimetype": "text/x-python",
   "name": "python",
   "nbconvert_exporter": "python",
   "pygments_lexer": "ipython3",
   "version": "3.7.3"
  }
 },
 "nbformat": 4,
 "nbformat_minor": 2
}
